{
 "cells": [
  {
   "cell_type": "code",
   "execution_count": null,
   "metadata": {
    "collapsed": true
   },
   "outputs": [],
   "source": [
    "import pandas as pd\n",
    "import os\n",
    "import numpy as np"
   ]
  },
  {
   "cell_type": "markdown",
   "source": [
    "## RQ2"
   ],
   "metadata": {
    "collapsed": false
   }
  },
  {
   "cell_type": "code",
   "execution_count": null,
   "outputs": [],
   "source": [
    "base_folder_path = os.getcwd().split(os.sep + 'src')[0]\n",
    "dataset_path = os.path.join(base_folder_path, 'dataset')\n",
    "print(\"Dataset Path: \" + dataset_path)\n",
    "\n",
    "xlsx_file_path = dataset_path + os.sep + \"combined-temp.xlsx\"\n",
    "result_file_path = dataset_path + os.sep + \"combined_analysis.xlsx\""
   ],
   "metadata": {
    "collapsed": false
   }
  },
  {
   "cell_type": "code",
   "execution_count": null,
   "outputs": [],
   "source": [
    "def find_response_type_dict(df:pd.DataFrame, counter):\n",
    "    tag_dict = dict()\n",
    "    explanations = [\"EC\", \"EIC\", \"EPC\"]\n",
    "    answers = ['AC', 'AIC', 'APC']\n",
    "    for tag_1 in explanations:\n",
    "        for tag_2 in answers:\n",
    "            tag_dict[ tag_1 + '-' + tag_2] = 0\n",
    "\n",
    "    for index, row in df.iterrows():\n",
    "        if row['Explanation.'+str(counter)] not in explanations:\n",
    "            continue\n",
    "        if row['Answer.'+str(counter)] not in answers:\n",
    "            continue\n",
    "\n",
    "        key = row['Explanation.'+str(counter)] + '-' + row['Answer.'+str(counter)]\n",
    "\n",
    "        if key in tag_dict:\n",
    "            tag_dict[key] += 1\n",
    "\n",
    "    return tag_dict"
   ],
   "metadata": {
    "collapsed": false
   }
  },
  {
   "cell_type": "code",
   "execution_count": null,
   "outputs": [],
   "source": [
    "sheets = pd.ExcelFile(os.path.join(xlsx_file_path)).sheet_names\n",
    "total_iterations = 3\n",
    "for sheet in sheets:\n",
    "    df = pd.read_excel(xlsx_file_path, sheet)\n",
    "    print( \"Sheet:\", sheet)\n",
    "\n",
    "    result = pd.DataFrame()\n",
    "    for index in range(1, (total_iterations*2)+1):\n",
    "        tag_dict = find_response_type_dict(df, index)\n",
    "        result = result.append( pd.DataFrame( [tag_dict]) )\n",
    "\n",
    "    index_column = pd.Index(['shared_1', 'shared_2', 'shared_3', 'separate_1', 'separate_2', 'separate_3'])\n",
    "    result = result.set_index(index_column)\n",
    "    print(result)\n",
    "    # with pd.ExcelWriter(result_file_path, engine=\"openpyxl\", mode=\"a\", if_sheet_exists=\"replace\") as writer:\n",
    "    #     result.to_excel(writer, sheet_name=sheet+\"_testing\", index=True)"
   ],
   "metadata": {
    "collapsed": false
   }
  },
  {
   "cell_type": "markdown",
   "source": [
    "## RQ4: Confidence analysis"
   ],
   "metadata": {
    "collapsed": false
   }
  },
  {
   "cell_type": "code",
   "execution_count": null,
   "outputs": [],
   "source": [
    "def find_confidence_dict(df:pd.DataFrame):\n",
    "    tag_dict = dict()\n",
    "    tags = [\"EC\", \"EIC\", \"EPC\"]\n",
    "    # tags = ['AC', 'AIC', 'APC']\n",
    "    for tag in tags:\n",
    "        tag_dict[ tag ] = dict()\n",
    "\n",
    "    for index, row in df.iterrows():\n",
    "\n",
    "        if pd.isna(row['Confidence.2']):\n",
    "            key = row['Explanation.1']\n",
    "            if key in tag_dict:\n",
    "                if row['Confidence.1'] not in tag_dict[key]:\n",
    "                    tag_dict[key][row['Confidence.1']] = 1\n",
    "                else:\n",
    "                    tag_dict[key][row['Confidence.1']] += 1\n",
    "        else:\n",
    "            key = row['Explanation.4']\n",
    "            if key in tag_dict:\n",
    "                if row['Confidence.2'] not in tag_dict[key]:\n",
    "                    tag_dict[key][row['Confidence.2']] = 1\n",
    "                else:\n",
    "                    tag_dict[key][row['Confidence.2']] += 1\n",
    "\n",
    "    return tag_dict"
   ],
   "metadata": {
    "collapsed": false
   }
  },
  {
   "cell_type": "code",
   "execution_count": null,
   "outputs": [],
   "source": [
    "sheets = pd.ExcelFile(os.path.join(xlsx_file_path)).sheet_names\n",
    "\n",
    "for sheet in sheets:\n",
    "    df = pd.read_excel(xlsx_file_path, sheet)\n",
    "    print( \"Sheet:\", sheet)\n",
    "\n",
    "    tag_dict = find_confidence_dict(df)\n",
    "    result = pd.DataFrame( tag_dict)\n",
    "    result = result. replace(np.nan,0)\n",
    "\n",
    "    print(result)\n",
    "\n",
    "    # with pd.ExcelWriter(result_file_path, engine=\"openpyxl\", mode=\"a\", if_sheet_exists=\"replace\") as writer:\n",
    "    #     result.to_excel(writer, sheet_name=sheet+\"_confidence\", index=True)\n"
   ],
   "metadata": {
    "collapsed": false
   }
  },
  {
   "cell_type": "markdown",
   "source": [
    "## RQ1"
   ],
   "metadata": {
    "collapsed": false
   }
  },
  {
   "cell_type": "code",
   "execution_count": null,
   "outputs": [],
   "source": [
    "def find_tag_dict(df:pd.DataFrame, counter):\n",
    "\n",
    "    # tags = [\"EC\", \"EIC\", \"EPC\"]\n",
    "    tags = [\"AC\", \"AIC\", \"APC\"]\n",
    "    tag_dict = dict()\n",
    "    for tag in tags:\n",
    "        tag_dict[tag] = 0\n",
    "\n",
    "    for index, row in df.iterrows():\n",
    "        if row['Answer.'+str(counter)] not in tags:\n",
    "            continue\n",
    "\n",
    "        tag_dict[row['Answer.'+str(counter)]] += 1\n",
    "\n",
    "    return tag_dict"
   ],
   "metadata": {
    "collapsed": false
   }
  },
  {
   "cell_type": "code",
   "execution_count": null,
   "outputs": [],
   "source": [
    "xlsx_file_path = dataset_path + os.sep + \"combined_pair.xlsx\"\n",
    "sheets = pd.ExcelFile(os.path.join(xlsx_file_path)).sheet_names\n",
    "total_iterations = 3\n",
    "\n",
    "for sheet in sheets:\n",
    "    df = pd.read_excel(xlsx_file_path, sheet)\n",
    "    print( \"Sheet:\", sheet)\n",
    "\n",
    "    result = pd.DataFrame()\n",
    "    for index in range(1, (total_iterations*2)+1):\n",
    "        tag_dict = find_tag_dict(df, index)\n",
    "        result = result.append( pd.DataFrame( [tag_dict]) )\n",
    "\n",
    "    index_column = pd.Index(['shared_1', 'shared_2', 'shared_3', 'separate_1', 'separate_2', 'separate_3'])\n",
    "    result = result.set_index(index_column)\n",
    "    print(result)\n",
    "    # with pd.ExcelWriter(result_file_path, engine=\"openpyxl\", mode=\"a\", if_sheet_exists=\"replace\") as writer:\n",
    "    #     result.to_excel(writer, sheet_name=sheet+\"_testing\", index=True)"
   ],
   "metadata": {
    "collapsed": false
   }
  },
  {
   "cell_type": "markdown",
   "source": [
    "## RQ3"
   ],
   "metadata": {
    "collapsed": false
   }
  },
  {
   "cell_type": "code",
   "execution_count": null,
   "outputs": [],
   "source": [
    "xlsx_file_path = dataset_path + os.sep + \"combined-temp.xlsx\"\n",
    "df = pd.read_excel(xlsx_file_path, 'all')"
   ],
   "metadata": {
    "collapsed": false
   }
  },
  {
   "cell_type": "code",
   "execution_count": null,
   "outputs": [],
   "source": [
    "consistent = 0\n",
    "inconsistent = 0\n",
    "\n",
    "for index, row in df.iterrows():\n",
    "    prev = row['Explanation.1']\n",
    "\n",
    "    if pd.isna(prev):\n",
    "        continue\n",
    "\n",
    "    flag = False\n",
    "\n",
    "    for iter in range(2, 4):\n",
    "        col_name = row['Explanation.'+str(iter)]\n",
    "        if prev is not col_name:\n",
    "            inconsistent += 1\n",
    "            flag = True\n",
    "            break\n",
    "\n",
    "    if flag == False:\n",
    "        consistent += 1\n",
    "\n",
    "print(\"Explanation\", \"Inconsistent:\", inconsistent, \"Consistent:\", consistent)"
   ],
   "metadata": {
    "collapsed": false
   }
  },
  {
   "cell_type": "code",
   "execution_count": null,
   "outputs": [],
   "source": [
    "consistent = 0\n",
    "inconsistent = 0\n",
    "\n",
    "for index, row in df.iterrows():\n",
    "    prev = row['Answer.1']\n",
    "    if pd.isna(prev):\n",
    "        continue\n",
    "\n",
    "    flag = False\n",
    "\n",
    "    for iter in range(2, 4):\n",
    "        col_name = row['Answer.'+str(iter)]\n",
    "        if prev is not col_name:\n",
    "            inconsistent += 1\n",
    "            flag = True\n",
    "            break\n",
    "\n",
    "    if flag == False:\n",
    "        consistent += 1\n",
    "\n",
    "print(\"Answer\", \"Inconsistent:\", inconsistent, \"Consistent:\", consistent)"
   ],
   "metadata": {
    "collapsed": false
   }
  }
 ],
 "metadata": {
  "kernelspec": {
   "display_name": "Python 3",
   "language": "python",
   "name": "python3"
  },
  "language_info": {
   "codemirror_mode": {
    "name": "ipython",
    "version": 2
   },
   "file_extension": ".py",
   "mimetype": "text/x-python",
   "name": "python",
   "nbconvert_exporter": "python",
   "pygments_lexer": "ipython2",
   "version": "2.7.6"
  }
 },
 "nbformat": 4,
 "nbformat_minor": 0
}
