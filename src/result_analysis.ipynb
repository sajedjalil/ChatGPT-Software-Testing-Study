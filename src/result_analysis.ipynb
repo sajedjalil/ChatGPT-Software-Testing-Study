{
 "cells": [
  {
   "cell_type": "code",
   "execution_count": 65,
   "metadata": {
    "collapsed": true
   },
   "outputs": [],
   "source": [
    "import pandas as pd\n",
    "import os"
   ]
  },
  {
   "cell_type": "code",
   "execution_count": 66,
   "outputs": [
    {
     "name": "stdout",
     "output_type": "stream",
     "text": [
      "Dataset Path: /Users/sajed/PycharmProjects/Study-on-ChatGPT/dataset\n"
     ]
    }
   ],
   "source": [
    "base_folder_path = os.getcwd().split(os.sep + 'src')[0]\n",
    "dataset_path = os.path.join(base_folder_path, 'dataset')\n",
    "print(\"Dataset Path: \" + dataset_path)\n",
    "\n",
    "xlsx_file_path = dataset_path + os.sep + \"testing.xlsx\"\n",
    "result_file_path = dataset_path + os.sep + \"Analysis.xlsx\""
   ],
   "metadata": {
    "collapsed": false
   }
  },
  {
   "cell_type": "code",
   "execution_count": 67,
   "outputs": [],
   "source": [
    "def find_response_type_dict(df:pd.DataFrame, counter):\n",
    "    tag_dict = dict()\n",
    "    explanations = [\"EC\", \"EIC\", \"EPC\"]\n",
    "    answers = ['AC', 'AIC', 'APC']\n",
    "    for tag_1 in explanations:\n",
    "        for tag_2 in answers:\n",
    "            tag_dict[ tag_1 + '-' + tag_2] = 0\n",
    "\n",
    "    for index, row in df.iterrows():\n",
    "        if row['Explanation.'+str(counter)] not in explanations:\n",
    "            continue\n",
    "        if row['Answer.'+str(counter)] not in answers:\n",
    "            continue\n",
    "\n",
    "        key = row['Explanation.'+str(counter)] + '-' + row['Answer.'+str(counter)]\n",
    "\n",
    "        if key in tag_dict:\n",
    "            tag_dict[key] += 1\n",
    "\n",
    "    return tag_dict"
   ],
   "metadata": {
    "collapsed": false
   }
  },
  {
   "cell_type": "code",
   "execution_count": 71,
   "outputs": [
    {
     "name": "stdout",
     "output_type": "stream",
     "text": [
      "Sheet: ch1\n",
      "Sheet: ch2\n",
      "Sheet: ch3\n"
     ]
    },
    {
     "name": "stderr",
     "output_type": "stream",
     "text": [
      "/var/folders/0j/xlmdg4yd2m3_d3s69ffh30ph0000gn/T/ipykernel_33450/1352028983.py:10: FutureWarning: The frame.append method is deprecated and will be removed from pandas in a future version. Use pandas.concat instead.\n",
      "  result = result.append( pd.DataFrame( [tag_dict]) )\n",
      "/var/folders/0j/xlmdg4yd2m3_d3s69ffh30ph0000gn/T/ipykernel_33450/1352028983.py:10: FutureWarning: The frame.append method is deprecated and will be removed from pandas in a future version. Use pandas.concat instead.\n",
      "  result = result.append( pd.DataFrame( [tag_dict]) )\n",
      "/var/folders/0j/xlmdg4yd2m3_d3s69ffh30ph0000gn/T/ipykernel_33450/1352028983.py:10: FutureWarning: The frame.append method is deprecated and will be removed from pandas in a future version. Use pandas.concat instead.\n",
      "  result = result.append( pd.DataFrame( [tag_dict]) )\n",
      "/var/folders/0j/xlmdg4yd2m3_d3s69ffh30ph0000gn/T/ipykernel_33450/1352028983.py:10: FutureWarning: The frame.append method is deprecated and will be removed from pandas in a future version. Use pandas.concat instead.\n",
      "  result = result.append( pd.DataFrame( [tag_dict]) )\n",
      "/var/folders/0j/xlmdg4yd2m3_d3s69ffh30ph0000gn/T/ipykernel_33450/1352028983.py:10: FutureWarning: The frame.append method is deprecated and will be removed from pandas in a future version. Use pandas.concat instead.\n",
      "  result = result.append( pd.DataFrame( [tag_dict]) )\n",
      "/var/folders/0j/xlmdg4yd2m3_d3s69ffh30ph0000gn/T/ipykernel_33450/1352028983.py:10: FutureWarning: The frame.append method is deprecated and will be removed from pandas in a future version. Use pandas.concat instead.\n",
      "  result = result.append( pd.DataFrame( [tag_dict]) )\n",
      "/var/folders/0j/xlmdg4yd2m3_d3s69ffh30ph0000gn/T/ipykernel_33450/1352028983.py:10: FutureWarning: The frame.append method is deprecated and will be removed from pandas in a future version. Use pandas.concat instead.\n",
      "  result = result.append( pd.DataFrame( [tag_dict]) )\n",
      "/var/folders/0j/xlmdg4yd2m3_d3s69ffh30ph0000gn/T/ipykernel_33450/1352028983.py:10: FutureWarning: The frame.append method is deprecated and will be removed from pandas in a future version. Use pandas.concat instead.\n",
      "  result = result.append( pd.DataFrame( [tag_dict]) )\n",
      "/var/folders/0j/xlmdg4yd2m3_d3s69ffh30ph0000gn/T/ipykernel_33450/1352028983.py:10: FutureWarning: The frame.append method is deprecated and will be removed from pandas in a future version. Use pandas.concat instead.\n",
      "  result = result.append( pd.DataFrame( [tag_dict]) )\n",
      "/var/folders/0j/xlmdg4yd2m3_d3s69ffh30ph0000gn/T/ipykernel_33450/1352028983.py:10: FutureWarning: The frame.append method is deprecated and will be removed from pandas in a future version. Use pandas.concat instead.\n",
      "  result = result.append( pd.DataFrame( [tag_dict]) )\n",
      "/var/folders/0j/xlmdg4yd2m3_d3s69ffh30ph0000gn/T/ipykernel_33450/1352028983.py:10: FutureWarning: The frame.append method is deprecated and will be removed from pandas in a future version. Use pandas.concat instead.\n",
      "  result = result.append( pd.DataFrame( [tag_dict]) )\n",
      "/var/folders/0j/xlmdg4yd2m3_d3s69ffh30ph0000gn/T/ipykernel_33450/1352028983.py:10: FutureWarning: The frame.append method is deprecated and will be removed from pandas in a future version. Use pandas.concat instead.\n",
      "  result = result.append( pd.DataFrame( [tag_dict]) )\n",
      "/var/folders/0j/xlmdg4yd2m3_d3s69ffh30ph0000gn/T/ipykernel_33450/1352028983.py:10: FutureWarning: The frame.append method is deprecated and will be removed from pandas in a future version. Use pandas.concat instead.\n",
      "  result = result.append( pd.DataFrame( [tag_dict]) )\n",
      "/var/folders/0j/xlmdg4yd2m3_d3s69ffh30ph0000gn/T/ipykernel_33450/1352028983.py:10: FutureWarning: The frame.append method is deprecated and will be removed from pandas in a future version. Use pandas.concat instead.\n",
      "  result = result.append( pd.DataFrame( [tag_dict]) )\n",
      "/var/folders/0j/xlmdg4yd2m3_d3s69ffh30ph0000gn/T/ipykernel_33450/1352028983.py:10: FutureWarning: The frame.append method is deprecated and will be removed from pandas in a future version. Use pandas.concat instead.\n",
      "  result = result.append( pd.DataFrame( [tag_dict]) )\n",
      "/var/folders/0j/xlmdg4yd2m3_d3s69ffh30ph0000gn/T/ipykernel_33450/1352028983.py:10: FutureWarning: The frame.append method is deprecated and will be removed from pandas in a future version. Use pandas.concat instead.\n",
      "  result = result.append( pd.DataFrame( [tag_dict]) )\n",
      "/var/folders/0j/xlmdg4yd2m3_d3s69ffh30ph0000gn/T/ipykernel_33450/1352028983.py:10: FutureWarning: The frame.append method is deprecated and will be removed from pandas in a future version. Use pandas.concat instead.\n",
      "  result = result.append( pd.DataFrame( [tag_dict]) )\n",
      "/var/folders/0j/xlmdg4yd2m3_d3s69ffh30ph0000gn/T/ipykernel_33450/1352028983.py:10: FutureWarning: The frame.append method is deprecated and will be removed from pandas in a future version. Use pandas.concat instead.\n",
      "  result = result.append( pd.DataFrame( [tag_dict]) )\n"
     ]
    }
   ],
   "source": [
    "sheets = pd.ExcelFile(os.path.join(xlsx_file_path)).sheet_names\n",
    "total_iterations = 3\n",
    "for sheet in sheets:\n",
    "    df = pd.read_excel(xlsx_file_path, sheet)\n",
    "    print( \"Sheet:\", sheet)\n",
    "\n",
    "    result = pd.DataFrame()\n",
    "    for index in range(1, (total_iterations*2)+1):\n",
    "        tag_dict = find_response_type_dict(df, index)\n",
    "        result = result.append( pd.DataFrame( [tag_dict]) )\n",
    "\n",
    "    result.reset_index()\n",
    "    # print(result)\n",
    "\n",
    "    with pd.ExcelWriter(result_file_path, engine=\"openpyxl\", mode=\"a\", if_sheet_exists=\"replace\") as writer:\n",
    "        result.to_excel(writer, sheet_name=sheet, index=False)\n"
   ],
   "metadata": {
    "collapsed": false
   }
  }
 ],
 "metadata": {
  "kernelspec": {
   "display_name": "Python 3",
   "language": "python",
   "name": "python3"
  },
  "language_info": {
   "codemirror_mode": {
    "name": "ipython",
    "version": 2
   },
   "file_extension": ".py",
   "mimetype": "text/x-python",
   "name": "python",
   "nbconvert_exporter": "python",
   "pygments_lexer": "ipython2",
   "version": "2.7.6"
  }
 },
 "nbformat": 4,
 "nbformat_minor": 0
}
